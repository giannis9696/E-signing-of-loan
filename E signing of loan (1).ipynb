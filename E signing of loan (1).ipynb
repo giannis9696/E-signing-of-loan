{
 "cells": [
  {
   "cell_type": "code",
   "execution_count": 1,
   "id": "55f4c034",
   "metadata": {},
   "outputs": [],
   "source": [
    "import numpy as np\n",
    "import pandas as pd\n",
    "import tensorflow as tf\n",
    "import os"
   ]
  },
  {
   "cell_type": "code",
   "execution_count": 2,
   "id": "819bd484",
   "metadata": {},
   "outputs": [
    {
     "data": {
      "text/plain": [
       "'2.8.0'"
      ]
     },
     "execution_count": 2,
     "metadata": {},
     "output_type": "execute_result"
    }
   ],
   "source": [
    "tf.__version__"
   ]
  },
  {
   "cell_type": "code",
   "execution_count": 3,
   "id": "b2e88b9e",
   "metadata": {},
   "outputs": [
    {
     "data": {
      "text/plain": [
       "'C:\\\\Users\\\\giannis\\\\Desktop\\\\Machine+Learning+A-Z+(Codes+and+Datasets)\\\\Machine Learning A-Z (Codes and Datasets)\\\\Part 8 - Deep Learning\\\\Section 39 - Artificial Neural Networks (ANN)\\\\Python'"
      ]
     },
     "execution_count": 3,
     "metadata": {},
     "output_type": "execute_result"
    }
   ],
   "source": [
    "os.getcwd()"
   ]
  },
  {
   "cell_type": "code",
   "execution_count": 4,
   "id": "03c1848c",
   "metadata": {},
   "outputs": [],
   "source": [
    "os.chdir('C:\\\\Users\\\\giannis\\\\Downloads\\\\financial_data.csv')"
   ]
  },
  {
   "cell_type": "code",
   "execution_count": 5,
   "id": "e79fc2c8",
   "metadata": {},
   "outputs": [
    {
     "data": {
      "text/plain": [
       "'C:\\\\Users\\\\giannis\\\\Downloads\\\\financial_data.csv'"
      ]
     },
     "execution_count": 5,
     "metadata": {},
     "output_type": "execute_result"
    }
   ],
   "source": [
    "os.getcwd()"
   ]
  },
  {
   "cell_type": "code",
   "execution_count": 6,
   "id": "a45ae9d0",
   "metadata": {},
   "outputs": [],
   "source": [
    "dataset = pd.read_csv('financial_data.csv')\n",
    "X = dataset.iloc[:,1:-1].values\n",
    "y = dataset.iloc[:,-1].values"
   ]
  },
  {
   "cell_type": "code",
   "execution_count": 7,
   "id": "fdce252d",
   "metadata": {},
   "outputs": [
    {
     "data": {
      "text/html": [
       "<div>\n",
       "<style scoped>\n",
       "    .dataframe tbody tr th:only-of-type {\n",
       "        vertical-align: middle;\n",
       "    }\n",
       "\n",
       "    .dataframe tbody tr th {\n",
       "        vertical-align: top;\n",
       "    }\n",
       "\n",
       "    .dataframe thead th {\n",
       "        text-align: right;\n",
       "    }\n",
       "</style>\n",
       "<table border=\"1\" class=\"dataframe\">\n",
       "  <thead>\n",
       "    <tr style=\"text-align: right;\">\n",
       "      <th></th>\n",
       "      <th>entry_id</th>\n",
       "      <th>age</th>\n",
       "      <th>pay_schedule</th>\n",
       "      <th>home_owner</th>\n",
       "      <th>income</th>\n",
       "      <th>months_employed</th>\n",
       "      <th>years_employed</th>\n",
       "      <th>current_address_year</th>\n",
       "      <th>personal_account_m</th>\n",
       "      <th>personal_account_y</th>\n",
       "      <th>...</th>\n",
       "      <th>amount_requested</th>\n",
       "      <th>risk_score</th>\n",
       "      <th>risk_score_2</th>\n",
       "      <th>risk_score_3</th>\n",
       "      <th>risk_score_4</th>\n",
       "      <th>risk_score_5</th>\n",
       "      <th>ext_quality_score</th>\n",
       "      <th>ext_quality_score_2</th>\n",
       "      <th>inquiries_last_month</th>\n",
       "      <th>e_signed</th>\n",
       "    </tr>\n",
       "  </thead>\n",
       "  <tbody>\n",
       "    <tr>\n",
       "      <th>0</th>\n",
       "      <td>7629673</td>\n",
       "      <td>40</td>\n",
       "      <td>bi-weekly</td>\n",
       "      <td>1</td>\n",
       "      <td>3135</td>\n",
       "      <td>0</td>\n",
       "      <td>3</td>\n",
       "      <td>3</td>\n",
       "      <td>6</td>\n",
       "      <td>2</td>\n",
       "      <td>...</td>\n",
       "      <td>550</td>\n",
       "      <td>36200</td>\n",
       "      <td>0.737398</td>\n",
       "      <td>0.903517</td>\n",
       "      <td>0.487712</td>\n",
       "      <td>0.515977</td>\n",
       "      <td>0.580918</td>\n",
       "      <td>0.380918</td>\n",
       "      <td>10</td>\n",
       "      <td>1</td>\n",
       "    </tr>\n",
       "    <tr>\n",
       "      <th>1</th>\n",
       "      <td>3560428</td>\n",
       "      <td>61</td>\n",
       "      <td>weekly</td>\n",
       "      <td>0</td>\n",
       "      <td>3180</td>\n",
       "      <td>0</td>\n",
       "      <td>6</td>\n",
       "      <td>3</td>\n",
       "      <td>2</td>\n",
       "      <td>7</td>\n",
       "      <td>...</td>\n",
       "      <td>600</td>\n",
       "      <td>30150</td>\n",
       "      <td>0.738510</td>\n",
       "      <td>0.881027</td>\n",
       "      <td>0.713423</td>\n",
       "      <td>0.826402</td>\n",
       "      <td>0.730720</td>\n",
       "      <td>0.630720</td>\n",
       "      <td>9</td>\n",
       "      <td>0</td>\n",
       "    </tr>\n",
       "    <tr>\n",
       "      <th>2</th>\n",
       "      <td>6934997</td>\n",
       "      <td>23</td>\n",
       "      <td>weekly</td>\n",
       "      <td>0</td>\n",
       "      <td>1540</td>\n",
       "      <td>6</td>\n",
       "      <td>0</td>\n",
       "      <td>0</td>\n",
       "      <td>7</td>\n",
       "      <td>1</td>\n",
       "      <td>...</td>\n",
       "      <td>450</td>\n",
       "      <td>34550</td>\n",
       "      <td>0.642993</td>\n",
       "      <td>0.766554</td>\n",
       "      <td>0.595018</td>\n",
       "      <td>0.762284</td>\n",
       "      <td>0.531712</td>\n",
       "      <td>0.531712</td>\n",
       "      <td>7</td>\n",
       "      <td>0</td>\n",
       "    </tr>\n",
       "    <tr>\n",
       "      <th>3</th>\n",
       "      <td>5682812</td>\n",
       "      <td>40</td>\n",
       "      <td>bi-weekly</td>\n",
       "      <td>0</td>\n",
       "      <td>5230</td>\n",
       "      <td>0</td>\n",
       "      <td>6</td>\n",
       "      <td>1</td>\n",
       "      <td>2</td>\n",
       "      <td>7</td>\n",
       "      <td>...</td>\n",
       "      <td>700</td>\n",
       "      <td>42150</td>\n",
       "      <td>0.665224</td>\n",
       "      <td>0.960832</td>\n",
       "      <td>0.767828</td>\n",
       "      <td>0.778831</td>\n",
       "      <td>0.792552</td>\n",
       "      <td>0.592552</td>\n",
       "      <td>8</td>\n",
       "      <td>1</td>\n",
       "    </tr>\n",
       "    <tr>\n",
       "      <th>4</th>\n",
       "      <td>5335819</td>\n",
       "      <td>33</td>\n",
       "      <td>semi-monthly</td>\n",
       "      <td>0</td>\n",
       "      <td>3590</td>\n",
       "      <td>0</td>\n",
       "      <td>5</td>\n",
       "      <td>2</td>\n",
       "      <td>2</td>\n",
       "      <td>8</td>\n",
       "      <td>...</td>\n",
       "      <td>1100</td>\n",
       "      <td>53850</td>\n",
       "      <td>0.617361</td>\n",
       "      <td>0.857560</td>\n",
       "      <td>0.613487</td>\n",
       "      <td>0.665523</td>\n",
       "      <td>0.744634</td>\n",
       "      <td>0.744634</td>\n",
       "      <td>12</td>\n",
       "      <td>0</td>\n",
       "    </tr>\n",
       "    <tr>\n",
       "      <th>...</th>\n",
       "      <td>...</td>\n",
       "      <td>...</td>\n",
       "      <td>...</td>\n",
       "      <td>...</td>\n",
       "      <td>...</td>\n",
       "      <td>...</td>\n",
       "      <td>...</td>\n",
       "      <td>...</td>\n",
       "      <td>...</td>\n",
       "      <td>...</td>\n",
       "      <td>...</td>\n",
       "      <td>...</td>\n",
       "      <td>...</td>\n",
       "      <td>...</td>\n",
       "      <td>...</td>\n",
       "      <td>...</td>\n",
       "      <td>...</td>\n",
       "      <td>...</td>\n",
       "      <td>...</td>\n",
       "      <td>...</td>\n",
       "      <td>...</td>\n",
       "    </tr>\n",
       "    <tr>\n",
       "      <th>17903</th>\n",
       "      <td>9949728</td>\n",
       "      <td>31</td>\n",
       "      <td>monthly</td>\n",
       "      <td>0</td>\n",
       "      <td>3245</td>\n",
       "      <td>0</td>\n",
       "      <td>5</td>\n",
       "      <td>3</td>\n",
       "      <td>2</td>\n",
       "      <td>6</td>\n",
       "      <td>...</td>\n",
       "      <td>700</td>\n",
       "      <td>71700</td>\n",
       "      <td>0.691126</td>\n",
       "      <td>0.928196</td>\n",
       "      <td>0.664112</td>\n",
       "      <td>0.838012</td>\n",
       "      <td>0.727705</td>\n",
       "      <td>0.627705</td>\n",
       "      <td>2</td>\n",
       "      <td>0</td>\n",
       "    </tr>\n",
       "    <tr>\n",
       "      <th>17904</th>\n",
       "      <td>9442442</td>\n",
       "      <td>46</td>\n",
       "      <td>bi-weekly</td>\n",
       "      <td>0</td>\n",
       "      <td>6525</td>\n",
       "      <td>0</td>\n",
       "      <td>2</td>\n",
       "      <td>1</td>\n",
       "      <td>3</td>\n",
       "      <td>3</td>\n",
       "      <td>...</td>\n",
       "      <td>800</td>\n",
       "      <td>51800</td>\n",
       "      <td>0.648525</td>\n",
       "      <td>0.970832</td>\n",
       "      <td>0.699241</td>\n",
       "      <td>0.844724</td>\n",
       "      <td>0.774918</td>\n",
       "      <td>0.474918</td>\n",
       "      <td>3</td>\n",
       "      <td>0</td>\n",
       "    </tr>\n",
       "    <tr>\n",
       "      <th>17905</th>\n",
       "      <td>9857590</td>\n",
       "      <td>46</td>\n",
       "      <td>weekly</td>\n",
       "      <td>0</td>\n",
       "      <td>2685</td>\n",
       "      <td>0</td>\n",
       "      <td>5</td>\n",
       "      <td>1</td>\n",
       "      <td>1</td>\n",
       "      <td>8</td>\n",
       "      <td>...</td>\n",
       "      <td>1200</td>\n",
       "      <td>59650</td>\n",
       "      <td>0.677975</td>\n",
       "      <td>0.918141</td>\n",
       "      <td>0.687981</td>\n",
       "      <td>0.939101</td>\n",
       "      <td>0.472045</td>\n",
       "      <td>0.672045</td>\n",
       "      <td>9</td>\n",
       "      <td>0</td>\n",
       "    </tr>\n",
       "    <tr>\n",
       "      <th>17906</th>\n",
       "      <td>8708471</td>\n",
       "      <td>42</td>\n",
       "      <td>bi-weekly</td>\n",
       "      <td>0</td>\n",
       "      <td>2515</td>\n",
       "      <td>0</td>\n",
       "      <td>3</td>\n",
       "      <td>5</td>\n",
       "      <td>6</td>\n",
       "      <td>1</td>\n",
       "      <td>...</td>\n",
       "      <td>400</td>\n",
       "      <td>80200</td>\n",
       "      <td>0.642741</td>\n",
       "      <td>0.885684</td>\n",
       "      <td>0.456448</td>\n",
       "      <td>0.686823</td>\n",
       "      <td>0.406568</td>\n",
       "      <td>0.406568</td>\n",
       "      <td>3</td>\n",
       "      <td>1</td>\n",
       "    </tr>\n",
       "    <tr>\n",
       "      <th>17907</th>\n",
       "      <td>1498559</td>\n",
       "      <td>29</td>\n",
       "      <td>weekly</td>\n",
       "      <td>1</td>\n",
       "      <td>2665</td>\n",
       "      <td>0</td>\n",
       "      <td>4</td>\n",
       "      <td>10</td>\n",
       "      <td>4</td>\n",
       "      <td>1</td>\n",
       "      <td>...</td>\n",
       "      <td>600</td>\n",
       "      <td>64950</td>\n",
       "      <td>0.720889</td>\n",
       "      <td>0.874372</td>\n",
       "      <td>0.505565</td>\n",
       "      <td>0.631619</td>\n",
       "      <td>0.846163</td>\n",
       "      <td>0.846163</td>\n",
       "      <td>4</td>\n",
       "      <td>1</td>\n",
       "    </tr>\n",
       "  </tbody>\n",
       "</table>\n",
       "<p>17908 rows × 21 columns</p>\n",
       "</div>"
      ],
      "text/plain": [
       "       entry_id  age  pay_schedule  home_owner  income  months_employed  \\\n",
       "0       7629673   40     bi-weekly           1    3135                0   \n",
       "1       3560428   61        weekly           0    3180                0   \n",
       "2       6934997   23        weekly           0    1540                6   \n",
       "3       5682812   40     bi-weekly           0    5230                0   \n",
       "4       5335819   33  semi-monthly           0    3590                0   \n",
       "...         ...  ...           ...         ...     ...              ...   \n",
       "17903   9949728   31       monthly           0    3245                0   \n",
       "17904   9442442   46     bi-weekly           0    6525                0   \n",
       "17905   9857590   46        weekly           0    2685                0   \n",
       "17906   8708471   42     bi-weekly           0    2515                0   \n",
       "17907   1498559   29        weekly           1    2665                0   \n",
       "\n",
       "       years_employed  current_address_year  personal_account_m  \\\n",
       "0                   3                     3                   6   \n",
       "1                   6                     3                   2   \n",
       "2                   0                     0                   7   \n",
       "3                   6                     1                   2   \n",
       "4                   5                     2                   2   \n",
       "...               ...                   ...                 ...   \n",
       "17903               5                     3                   2   \n",
       "17904               2                     1                   3   \n",
       "17905               5                     1                   1   \n",
       "17906               3                     5                   6   \n",
       "17907               4                    10                   4   \n",
       "\n",
       "       personal_account_y  ...  amount_requested  risk_score  risk_score_2  \\\n",
       "0                       2  ...               550       36200      0.737398   \n",
       "1                       7  ...               600       30150      0.738510   \n",
       "2                       1  ...               450       34550      0.642993   \n",
       "3                       7  ...               700       42150      0.665224   \n",
       "4                       8  ...              1100       53850      0.617361   \n",
       "...                   ...  ...               ...         ...           ...   \n",
       "17903                   6  ...               700       71700      0.691126   \n",
       "17904                   3  ...               800       51800      0.648525   \n",
       "17905                   8  ...              1200       59650      0.677975   \n",
       "17906                   1  ...               400       80200      0.642741   \n",
       "17907                   1  ...               600       64950      0.720889   \n",
       "\n",
       "       risk_score_3  risk_score_4  risk_score_5  ext_quality_score  \\\n",
       "0          0.903517      0.487712      0.515977           0.580918   \n",
       "1          0.881027      0.713423      0.826402           0.730720   \n",
       "2          0.766554      0.595018      0.762284           0.531712   \n",
       "3          0.960832      0.767828      0.778831           0.792552   \n",
       "4          0.857560      0.613487      0.665523           0.744634   \n",
       "...             ...           ...           ...                ...   \n",
       "17903      0.928196      0.664112      0.838012           0.727705   \n",
       "17904      0.970832      0.699241      0.844724           0.774918   \n",
       "17905      0.918141      0.687981      0.939101           0.472045   \n",
       "17906      0.885684      0.456448      0.686823           0.406568   \n",
       "17907      0.874372      0.505565      0.631619           0.846163   \n",
       "\n",
       "       ext_quality_score_2  inquiries_last_month  e_signed  \n",
       "0                 0.380918                    10         1  \n",
       "1                 0.630720                     9         0  \n",
       "2                 0.531712                     7         0  \n",
       "3                 0.592552                     8         1  \n",
       "4                 0.744634                    12         0  \n",
       "...                    ...                   ...       ...  \n",
       "17903             0.627705                     2         0  \n",
       "17904             0.474918                     3         0  \n",
       "17905             0.672045                     9         0  \n",
       "17906             0.406568                     3         1  \n",
       "17907             0.846163                     4         1  \n",
       "\n",
       "[17908 rows x 21 columns]"
      ]
     },
     "execution_count": 7,
     "metadata": {},
     "output_type": "execute_result"
    }
   ],
   "source": [
    "dataset"
   ]
  },
  {
   "cell_type": "code",
   "execution_count": 8,
   "id": "3037b706",
   "metadata": {},
   "outputs": [
    {
     "name": "stdout",
     "output_type": "stream",
     "text": [
      "[[40 'bi-weekly' 1 ... 0.580918 0.380918 10]\n",
      " [61 'weekly' 0 ... 0.73072 0.63072 9]\n",
      " [23 'weekly' 0 ... 0.531712 0.531712 7]\n",
      " ...\n",
      " [46 'weekly' 0 ... 0.472045 0.672045 9]\n",
      " [42 'bi-weekly' 0 ... 0.406568 0.406568 3]\n",
      " [29 'weekly' 1 ... 0.8461629999999999 0.8461629999999999 4]]\n"
     ]
    }
   ],
   "source": [
    "print(X)"
   ]
  },
  {
   "cell_type": "code",
   "execution_count": 9,
   "id": "fa76fd44",
   "metadata": {},
   "outputs": [
    {
     "name": "stdout",
     "output_type": "stream",
     "text": [
      "[1 0 0 ... 0 1 1]\n"
     ]
    }
   ],
   "source": [
    "print(y)"
   ]
  },
  {
   "cell_type": "code",
   "execution_count": 10,
   "id": "935fc846",
   "metadata": {},
   "outputs": [],
   "source": [
    "##One hot encoding the \"pay_schedule\""
   ]
  },
  {
   "cell_type": "code",
   "execution_count": 11,
   "id": "ebc73cac",
   "metadata": {},
   "outputs": [],
   "source": [
    "from sklearn.compose import ColumnTransformer\n",
    "from sklearn.preprocessing import OneHotEncoder\n",
    "ct = ColumnTransformer(transformers=[('encoder', OneHotEncoder(), [1])], remainder='passthrough')\n",
    "X = np.array(ct.fit_transform(X))"
   ]
  },
  {
   "cell_type": "code",
   "execution_count": 12,
   "id": "bb615a12",
   "metadata": {},
   "outputs": [
    {
     "name": "stdout",
     "output_type": "stream",
     "text": [
      "[[1.0 0.0 0.0 ... 0.580918 0.380918 10]\n",
      " [0.0 0.0 0.0 ... 0.73072 0.63072 9]\n",
      " [0.0 0.0 0.0 ... 0.531712 0.531712 7]\n",
      " ...\n",
      " [0.0 0.0 0.0 ... 0.472045 0.672045 9]\n",
      " [1.0 0.0 0.0 ... 0.406568 0.406568 3]\n",
      " [0.0 0.0 0.0 ... 0.8461629999999999 0.8461629999999999 4]]\n"
     ]
    }
   ],
   "source": [
    "print(X)"
   ]
  },
  {
   "cell_type": "code",
   "execution_count": 13,
   "id": "e1ab2fbd",
   "metadata": {},
   "outputs": [],
   "source": [
    "##Splitting the dataset into the Training set and Test set"
   ]
  },
  {
   "cell_type": "code",
   "execution_count": 14,
   "id": "e0c02e3f",
   "metadata": {},
   "outputs": [],
   "source": [
    "from sklearn.model_selection import train_test_split\n",
    "X_train, X_test, y_train, y_test = train_test_split(X, y, test_size = 0.2, random_state = 0)"
   ]
  },
  {
   "cell_type": "code",
   "execution_count": 15,
   "id": "0eaecd1e",
   "metadata": {},
   "outputs": [],
   "source": [
    "### Feature Scaling"
   ]
  },
  {
   "cell_type": "code",
   "execution_count": 16,
   "id": "b49c4e6b",
   "metadata": {},
   "outputs": [],
   "source": [
    "from sklearn.preprocessing import StandardScaler\n",
    "sc = StandardScaler()\n",
    "X_train = sc.fit_transform(X_train)\n",
    "X_test = sc.transform(X_test)"
   ]
  },
  {
   "cell_type": "code",
   "execution_count": 17,
   "id": "0697aaa1",
   "metadata": {},
   "outputs": [
    {
     "name": "stdout",
     "output_type": "stream",
     "text": [
      "[[1.0 0.0 0.0 ... 0.580918 0.380918 10]\n",
      " [0.0 0.0 0.0 ... 0.73072 0.63072 9]\n",
      " [0.0 0.0 0.0 ... 0.531712 0.531712 7]\n",
      " ...\n",
      " [0.0 0.0 0.0 ... 0.472045 0.672045 9]\n",
      " [1.0 0.0 0.0 ... 0.406568 0.406568 3]\n",
      " [0.0 0.0 0.0 ... 0.8461629999999999 0.8461629999999999 4]]\n"
     ]
    }
   ],
   "source": [
    "print(X)"
   ]
  },
  {
   "cell_type": "code",
   "execution_count": 18,
   "id": "d07ba6a3",
   "metadata": {},
   "outputs": [],
   "source": [
    "## Part 2 - Building the ANN"
   ]
  },
  {
   "cell_type": "code",
   "execution_count": 19,
   "id": "91f5f3f8",
   "metadata": {},
   "outputs": [],
   "source": [
    "### Initializing the ANN\n"
   ]
  },
  {
   "cell_type": "code",
   "execution_count": 20,
   "id": "f6014398",
   "metadata": {},
   "outputs": [],
   "source": [
    "ann = tf.keras.models.Sequential()"
   ]
  },
  {
   "cell_type": "code",
   "execution_count": 21,
   "id": "5c65a9de",
   "metadata": {},
   "outputs": [],
   "source": [
    "### Adding the input layer and the first hidden layer"
   ]
  },
  {
   "cell_type": "code",
   "execution_count": 98,
   "id": "bda178f7",
   "metadata": {},
   "outputs": [],
   "source": [
    "ann.add(tf.keras.layers.Dense(units=100, activation='relu'))"
   ]
  },
  {
   "cell_type": "code",
   "execution_count": 99,
   "id": "45f873bb",
   "metadata": {},
   "outputs": [],
   "source": [
    "### Adding the second hidden layer"
   ]
  },
  {
   "cell_type": "code",
   "execution_count": 100,
   "id": "666309b1",
   "metadata": {},
   "outputs": [],
   "source": [
    "ann.add(tf.keras.layers.Dense(units=100, activation='relu'))"
   ]
  },
  {
   "cell_type": "code",
   "execution_count": 101,
   "id": "4839d847",
   "metadata": {},
   "outputs": [],
   "source": [
    "### Adding the output layer"
   ]
  },
  {
   "cell_type": "code",
   "execution_count": 102,
   "id": "f0b8f0c0",
   "metadata": {},
   "outputs": [],
   "source": [
    "ann.add(tf.keras.layers.Dense(units=1, activation='sigmoid'))"
   ]
  },
  {
   "cell_type": "code",
   "execution_count": 103,
   "id": "1efcff9b",
   "metadata": {},
   "outputs": [],
   "source": [
    "## Part 3 - Training the ANN\n"
   ]
  },
  {
   "cell_type": "code",
   "execution_count": 104,
   "id": "493463ef",
   "metadata": {},
   "outputs": [],
   "source": [
    "### Compiling the ANN"
   ]
  },
  {
   "cell_type": "code",
   "execution_count": 105,
   "id": "028ff006",
   "metadata": {},
   "outputs": [],
   "source": [
    "ann.compile(optimizer = 'adam', loss = 'binary_crossentropy', metrics = ['accuracy'])"
   ]
  },
  {
   "cell_type": "code",
   "execution_count": 106,
   "id": "2f8eefef",
   "metadata": {},
   "outputs": [],
   "source": [
    "### Training the ANN on the Training set"
   ]
  },
  {
   "cell_type": "code",
   "execution_count": 107,
   "id": "cb1f63d4",
   "metadata": {},
   "outputs": [
    {
     "name": "stdout",
     "output_type": "stream",
     "text": [
      "Epoch 1/296\n",
      "448/448 [==============================] - 2s 2ms/step - loss: 0.5304 - accuracy: 0.7542\n",
      "Epoch 2/296\n",
      "448/448 [==============================] - 1s 2ms/step - loss: 0.5043 - accuracy: 0.7702\n",
      "Epoch 3/296\n",
      "448/448 [==============================] - 1s 2ms/step - loss: 0.5060 - accuracy: 0.7704\n",
      "Epoch 4/296\n",
      "448/448 [==============================] - 1s 2ms/step - loss: 0.5031 - accuracy: 0.7739\n",
      "Epoch 5/296\n",
      "448/448 [==============================] - 1s 2ms/step - loss: 0.5028 - accuracy: 0.7709\n",
      "Epoch 6/296\n",
      "448/448 [==============================] - 1s 2ms/step - loss: 0.5042 - accuracy: 0.7707\n",
      "Epoch 7/296\n",
      "448/448 [==============================] - 1s 2ms/step - loss: 0.5026 - accuracy: 0.7738\n",
      "Epoch 8/296\n",
      "448/448 [==============================] - 1s 2ms/step - loss: 0.5000 - accuracy: 0.7751\n",
      "Epoch 9/296\n",
      "448/448 [==============================] - 1s 2ms/step - loss: 0.5027 - accuracy: 0.7722\n",
      "Epoch 10/296\n",
      "448/448 [==============================] - 1s 2ms/step - loss: 0.5012 - accuracy: 0.7740\n",
      "Epoch 11/296\n",
      "448/448 [==============================] - 1s 2ms/step - loss: 0.5019 - accuracy: 0.7743\n",
      "Epoch 12/296\n",
      "448/448 [==============================] - 1s 2ms/step - loss: 0.5002 - accuracy: 0.7751\n",
      "Epoch 13/296\n",
      "448/448 [==============================] - 1s 2ms/step - loss: 0.5023 - accuracy: 0.7741\n",
      "Epoch 14/296\n",
      "448/448 [==============================] - 1s 2ms/step - loss: 0.5010 - accuracy: 0.7751\n",
      "Epoch 15/296\n",
      "448/448 [==============================] - 1s 2ms/step - loss: 0.5017 - accuracy: 0.7768\n",
      "Epoch 16/296\n",
      "448/448 [==============================] - 1s 2ms/step - loss: 0.5008 - accuracy: 0.7738\n",
      "Epoch 17/296\n",
      "448/448 [==============================] - 1s 2ms/step - loss: 0.5004 - accuracy: 0.7757\n",
      "Epoch 18/296\n",
      "448/448 [==============================] - 1s 2ms/step - loss: 0.5001 - accuracy: 0.7744\n",
      "Epoch 19/296\n",
      "448/448 [==============================] - 1s 2ms/step - loss: 0.5021 - accuracy: 0.7762\n",
      "Epoch 20/296\n",
      "448/448 [==============================] - 1s 2ms/step - loss: 0.5001 - accuracy: 0.7757\n",
      "Epoch 21/296\n",
      "448/448 [==============================] - 1s 2ms/step - loss: 0.5022 - accuracy: 0.7732\n",
      "Epoch 22/296\n",
      "448/448 [==============================] - 1s 2ms/step - loss: 0.5005 - accuracy: 0.7782\n",
      "Epoch 23/296\n",
      "448/448 [==============================] - 1s 2ms/step - loss: 0.5007 - accuracy: 0.7780\n",
      "Epoch 24/296\n",
      "448/448 [==============================] - 1s 2ms/step - loss: 0.5002 - accuracy: 0.7769\n",
      "Epoch 25/296\n",
      "448/448 [==============================] - 1s 2ms/step - loss: 0.5007 - accuracy: 0.7773\n",
      "Epoch 26/296\n",
      "448/448 [==============================] - 1s 2ms/step - loss: 0.5006 - accuracy: 0.7784\n",
      "Epoch 27/296\n",
      "448/448 [==============================] - 1s 2ms/step - loss: 0.4995 - accuracy: 0.7775\n",
      "Epoch 28/296\n",
      "448/448 [==============================] - 1s 2ms/step - loss: 0.4995 - accuracy: 0.7770\n",
      "Epoch 29/296\n",
      "448/448 [==============================] - 1s 2ms/step - loss: 0.4988 - accuracy: 0.7775\n",
      "Epoch 30/296\n",
      "448/448 [==============================] - 1s 2ms/step - loss: 0.4999 - accuracy: 0.7780\n",
      "Epoch 31/296\n",
      "448/448 [==============================] - 1s 2ms/step - loss: 0.4987 - accuracy: 0.7797\n",
      "Epoch 32/296\n",
      "448/448 [==============================] - 1s 2ms/step - loss: 0.4998 - accuracy: 0.7773\n",
      "Epoch 33/296\n",
      "448/448 [==============================] - 1s 2ms/step - loss: 0.4974 - accuracy: 0.7810\n",
      "Epoch 34/296\n",
      "448/448 [==============================] - 1s 2ms/step - loss: 0.4997 - accuracy: 0.7794\n",
      "Epoch 35/296\n",
      "448/448 [==============================] - 1s 2ms/step - loss: 0.4980 - accuracy: 0.7817\n",
      "Epoch 36/296\n",
      "448/448 [==============================] - 1s 2ms/step - loss: 0.4995 - accuracy: 0.7780\n",
      "Epoch 37/296\n",
      "448/448 [==============================] - 1s 2ms/step - loss: 0.4989 - accuracy: 0.7807\n",
      "Epoch 38/296\n",
      "448/448 [==============================] - 1s 2ms/step - loss: 0.4994 - accuracy: 0.7796\n",
      "Epoch 39/296\n",
      "448/448 [==============================] - 1s 2ms/step - loss: 0.4986 - accuracy: 0.7825\n",
      "Epoch 40/296\n",
      "448/448 [==============================] - 1s 2ms/step - loss: 0.4981 - accuracy: 0.7798\n",
      "Epoch 41/296\n",
      "448/448 [==============================] - 1s 2ms/step - loss: 0.4983 - accuracy: 0.7827\n",
      "Epoch 42/296\n",
      "448/448 [==============================] - 1s 2ms/step - loss: 0.4992 - accuracy: 0.7801\n",
      "Epoch 43/296\n",
      "448/448 [==============================] - 1s 2ms/step - loss: 0.4984 - accuracy: 0.7815\n",
      "Epoch 44/296\n",
      "448/448 [==============================] - 1s 2ms/step - loss: 0.4977 - accuracy: 0.7817\n",
      "Epoch 45/296\n",
      "448/448 [==============================] - 1s 2ms/step - loss: 0.4995 - accuracy: 0.7807\n",
      "Epoch 46/296\n",
      "448/448 [==============================] - 1s 2ms/step - loss: 0.4988 - accuracy: 0.7798\n",
      "Epoch 47/296\n",
      "448/448 [==============================] - 1s 2ms/step - loss: 0.4981 - accuracy: 0.7821\n",
      "Epoch 48/296\n",
      "448/448 [==============================] - 1s 2ms/step - loss: 0.4975 - accuracy: 0.7794\n",
      "Epoch 49/296\n",
      "448/448 [==============================] - 1s 2ms/step - loss: 0.4980 - accuracy: 0.7814\n",
      "Epoch 50/296\n",
      "448/448 [==============================] - 1s 2ms/step - loss: 0.4994 - accuracy: 0.7804\n",
      "Epoch 51/296\n",
      "448/448 [==============================] - 1s 2ms/step - loss: 0.4978 - accuracy: 0.7835\n",
      "Epoch 52/296\n",
      "448/448 [==============================] - 1s 2ms/step - loss: 0.4991 - accuracy: 0.7791\n",
      "Epoch 53/296\n",
      "448/448 [==============================] - 1s 2ms/step - loss: 0.4985 - accuracy: 0.7805\n",
      "Epoch 54/296\n",
      "448/448 [==============================] - 1s 2ms/step - loss: 0.4999 - accuracy: 0.7808\n",
      "Epoch 55/296\n",
      "448/448 [==============================] - 1s 2ms/step - loss: 0.4971 - accuracy: 0.7870\n",
      "Epoch 56/296\n",
      "448/448 [==============================] - 1s 2ms/step - loss: 0.4991 - accuracy: 0.7821\n",
      "Epoch 57/296\n",
      "448/448 [==============================] - 1s 2ms/step - loss: 0.4963 - accuracy: 0.7837\n",
      "Epoch 58/296\n",
      "448/448 [==============================] - 1s 2ms/step - loss: 0.4988 - accuracy: 0.7818\n",
      "Epoch 59/296\n",
      "448/448 [==============================] - 1s 2ms/step - loss: 0.4951 - accuracy: 0.7854\n",
      "Epoch 60/296\n",
      "448/448 [==============================] - 1s 2ms/step - loss: 0.4988 - accuracy: 0.7816\n",
      "Epoch 61/296\n",
      "448/448 [==============================] - 1s 2ms/step - loss: 0.4957 - accuracy: 0.7838\n",
      "Epoch 62/296\n",
      "448/448 [==============================] - 1s 2ms/step - loss: 0.4968 - accuracy: 0.7849\n",
      "Epoch 63/296\n",
      "448/448 [==============================] - 1s 2ms/step - loss: 0.4961 - accuracy: 0.7840\n",
      "Epoch 64/296\n",
      "448/448 [==============================] - 1s 2ms/step - loss: 0.4962 - accuracy: 0.7840\n",
      "Epoch 65/296\n",
      "448/448 [==============================] - 1s 2ms/step - loss: 0.4962 - accuracy: 0.7863\n",
      "Epoch 66/296\n",
      "448/448 [==============================] - 1s 2ms/step - loss: 0.4955 - accuracy: 0.7872\n",
      "Epoch 67/296\n",
      "448/448 [==============================] - 1s 2ms/step - loss: 0.4965 - accuracy: 0.7861\n",
      "Epoch 68/296\n",
      "448/448 [==============================] - 1s 2ms/step - loss: 0.4977 - accuracy: 0.7842\n",
      "Epoch 69/296\n",
      "448/448 [==============================] - 1s 2ms/step - loss: 0.4951 - accuracy: 0.7887\n",
      "Epoch 70/296\n",
      "448/448 [==============================] - 1s 2ms/step - loss: 0.4973 - accuracy: 0.7830\n",
      "Epoch 71/296\n",
      "448/448 [==============================] - 1s 2ms/step - loss: 0.4950 - accuracy: 0.7859\n",
      "Epoch 72/296\n",
      "448/448 [==============================] - 1s 2ms/step - loss: 0.4953 - accuracy: 0.7843\n",
      "Epoch 73/296\n",
      "448/448 [==============================] - 1s 2ms/step - loss: 0.4958 - accuracy: 0.7868\n",
      "Epoch 74/296\n",
      "448/448 [==============================] - 1s 2ms/step - loss: 0.4934 - accuracy: 0.7895\n",
      "Epoch 75/296\n",
      "448/448 [==============================] - 1s 2ms/step - loss: 0.4961 - accuracy: 0.7835\n",
      "Epoch 76/296\n",
      "448/448 [==============================] - 1s 2ms/step - loss: 0.4980 - accuracy: 0.7861\n",
      "Epoch 77/296\n",
      "448/448 [==============================] - 1s 2ms/step - loss: 0.4987 - accuracy: 0.7850\n",
      "Epoch 78/296\n",
      "448/448 [==============================] - 1s 2ms/step - loss: 0.4961 - accuracy: 0.7875\n",
      "Epoch 79/296\n",
      "448/448 [==============================] - 1s 2ms/step - loss: 0.4932 - accuracy: 0.7900\n",
      "Epoch 80/296\n",
      "448/448 [==============================] - 1s 2ms/step - loss: 0.4955 - accuracy: 0.7864\n",
      "Epoch 81/296\n",
      "448/448 [==============================] - 1s 2ms/step - loss: 0.4930 - accuracy: 0.7907\n",
      "Epoch 82/296\n",
      "448/448 [==============================] - 1s 2ms/step - loss: 0.4954 - accuracy: 0.7856\n",
      "Epoch 83/296\n",
      "448/448 [==============================] - 1s 2ms/step - loss: 0.4970 - accuracy: 0.7862\n",
      "Epoch 84/296\n",
      "448/448 [==============================] - 1s 2ms/step - loss: 0.4958 - accuracy: 0.7866\n",
      "Epoch 85/296\n",
      "448/448 [==============================] - 1s 2ms/step - loss: 0.4964 - accuracy: 0.7884\n",
      "Epoch 86/296\n",
      "448/448 [==============================] - 1s 2ms/step - loss: 0.4925 - accuracy: 0.7902\n",
      "Epoch 87/296\n",
      "448/448 [==============================] - 1s 2ms/step - loss: 0.4949 - accuracy: 0.7871\n",
      "Epoch 88/296\n",
      "448/448 [==============================] - 1s 2ms/step - loss: 0.4934 - accuracy: 0.7889\n",
      "Epoch 89/296\n",
      "448/448 [==============================] - 1s 2ms/step - loss: 0.4931 - accuracy: 0.7893\n",
      "Epoch 90/296\n",
      "448/448 [==============================] - 1s 2ms/step - loss: 0.4960 - accuracy: 0.7868\n",
      "Epoch 91/296\n",
      "448/448 [==============================] - 1s 2ms/step - loss: 0.4941 - accuracy: 0.7889\n",
      "Epoch 92/296\n",
      "448/448 [==============================] - 1s 2ms/step - loss: 0.4940 - accuracy: 0.7895\n",
      "Epoch 93/296\n",
      "448/448 [==============================] - 1s 2ms/step - loss: 0.4929 - accuracy: 0.7881\n",
      "Epoch 94/296\n",
      "448/448 [==============================] - 1s 2ms/step - loss: 0.4935 - accuracy: 0.7909\n",
      "Epoch 95/296\n",
      "448/448 [==============================] - 1s 2ms/step - loss: 0.4931 - accuracy: 0.7890\n",
      "Epoch 96/296\n",
      "448/448 [==============================] - 1s 2ms/step - loss: 0.4937 - accuracy: 0.7896\n",
      "Epoch 97/296\n",
      "448/448 [==============================] - 1s 2ms/step - loss: 0.4924 - accuracy: 0.7925\n",
      "Epoch 98/296\n",
      "448/448 [==============================] - 1s 2ms/step - loss: 0.4929 - accuracy: 0.7913\n",
      "Epoch 99/296\n",
      "448/448 [==============================] - 1s 2ms/step - loss: 0.4938 - accuracy: 0.7898\n",
      "Epoch 100/296\n",
      "448/448 [==============================] - 1s 2ms/step - loss: 0.4946 - accuracy: 0.7894\n",
      "Epoch 101/296\n",
      "448/448 [==============================] - 1s 2ms/step - loss: 0.4912 - accuracy: 0.7939\n",
      "Epoch 102/296\n",
      "448/448 [==============================] - 1s 2ms/step - loss: 0.4919 - accuracy: 0.7919\n",
      "Epoch 103/296\n",
      "448/448 [==============================] - 1s 2ms/step - loss: 0.4931 - accuracy: 0.7914\n",
      "Epoch 104/296\n",
      "448/448 [==============================] - 1s 2ms/step - loss: 0.4912 - accuracy: 0.7933\n",
      "Epoch 105/296\n",
      "448/448 [==============================] - 1s 2ms/step - loss: 0.4925 - accuracy: 0.7914\n",
      "Epoch 106/296\n",
      "448/448 [==============================] - 1s 2ms/step - loss: 0.4914 - accuracy: 0.7931\n",
      "Epoch 107/296\n",
      "448/448 [==============================] - 1s 2ms/step - loss: 0.4905 - accuracy: 0.7939\n",
      "Epoch 108/296\n",
      "448/448 [==============================] - 1s 2ms/step - loss: 0.4915 - accuracy: 0.7942\n",
      "Epoch 109/296\n",
      "448/448 [==============================] - 1s 2ms/step - loss: 0.4918 - accuracy: 0.7930\n",
      "Epoch 110/296\n",
      "448/448 [==============================] - 1s 2ms/step - loss: 0.4901 - accuracy: 0.7962\n",
      "Epoch 111/296\n",
      "448/448 [==============================] - 1s 2ms/step - loss: 0.4929 - accuracy: 0.7923\n",
      "Epoch 112/296\n",
      "448/448 [==============================] - 1s 2ms/step - loss: 0.4905 - accuracy: 0.7951\n",
      "Epoch 113/296\n",
      "448/448 [==============================] - 1s 2ms/step - loss: 0.4910 - accuracy: 0.7951\n",
      "Epoch 114/296\n",
      "448/448 [==============================] - 1s 2ms/step - loss: 0.4908 - accuracy: 0.7940\n",
      "Epoch 115/296\n",
      "448/448 [==============================] - 1s 2ms/step - loss: 0.4912 - accuracy: 0.7936\n",
      "Epoch 116/296\n",
      "448/448 [==============================] - 1s 2ms/step - loss: 0.4896 - accuracy: 0.7955\n",
      "Epoch 117/296\n",
      "448/448 [==============================] - 1s 2ms/step - loss: 0.4908 - accuracy: 0.7952\n",
      "Epoch 118/296\n",
      "448/448 [==============================] - 1s 2ms/step - loss: 0.4898 - accuracy: 0.7932\n",
      "Epoch 119/296\n",
      "448/448 [==============================] - 1s 2ms/step - loss: 0.4908 - accuracy: 0.7939\n",
      "Epoch 120/296\n",
      "448/448 [==============================] - 1s 2ms/step - loss: 0.4882 - accuracy: 0.7965\n",
      "Epoch 121/296\n",
      "448/448 [==============================] - 1s 2ms/step - loss: 0.4901 - accuracy: 0.7958\n",
      "Epoch 122/296\n",
      "448/448 [==============================] - 1s 2ms/step - loss: 0.4903 - accuracy: 0.7934\n",
      "Epoch 123/296\n",
      "448/448 [==============================] - 1s 2ms/step - loss: 0.4883 - accuracy: 0.7976\n",
      "Epoch 124/296\n",
      "448/448 [==============================] - 1s 2ms/step - loss: 0.4880 - accuracy: 0.7962\n",
      "Epoch 125/296\n",
      "448/448 [==============================] - 1s 2ms/step - loss: 0.4903 - accuracy: 0.7960\n",
      "Epoch 126/296\n",
      "448/448 [==============================] - 1s 2ms/step - loss: 0.4900 - accuracy: 0.7961\n",
      "Epoch 127/296\n",
      "448/448 [==============================] - 1s 2ms/step - loss: 0.4884 - accuracy: 0.7960\n",
      "Epoch 128/296\n",
      "448/448 [==============================] - 1s 2ms/step - loss: 0.4872 - accuracy: 0.7999\n",
      "Epoch 129/296\n",
      "448/448 [==============================] - 1s 2ms/step - loss: 0.4906 - accuracy: 0.7950\n",
      "Epoch 130/296\n",
      "448/448 [==============================] - 1s 2ms/step - loss: 0.4876 - accuracy: 0.7966\n",
      "Epoch 131/296\n",
      "448/448 [==============================] - 1s 2ms/step - loss: 0.4876 - accuracy: 0.7967\n",
      "Epoch 132/296\n",
      "448/448 [==============================] - 1s 2ms/step - loss: 0.4860 - accuracy: 0.7990\n",
      "Epoch 133/296\n",
      "448/448 [==============================] - 1s 2ms/step - loss: 0.4891 - accuracy: 0.7983\n",
      "Epoch 134/296\n",
      "448/448 [==============================] - 1s 2ms/step - loss: 0.4892 - accuracy: 0.7958\n",
      "Epoch 135/296\n",
      "448/448 [==============================] - 1s 2ms/step - loss: 0.4876 - accuracy: 0.7975\n",
      "Epoch 136/296\n",
      "448/448 [==============================] - 1s 2ms/step - loss: 0.4870 - accuracy: 0.7990\n",
      "Epoch 137/296\n",
      "448/448 [==============================] - 1s 2ms/step - loss: 0.4892 - accuracy: 0.7955\n",
      "Epoch 138/296\n",
      "448/448 [==============================] - 1s 2ms/step - loss: 0.4849 - accuracy: 0.8024\n",
      "Epoch 139/296\n",
      "448/448 [==============================] - 1s 2ms/step - loss: 0.4917 - accuracy: 0.7956\n",
      "Epoch 140/296\n",
      "448/448 [==============================] - 1s 2ms/step - loss: 0.4859 - accuracy: 0.7999\n",
      "Epoch 141/296\n",
      "448/448 [==============================] - 1s 2ms/step - loss: 0.4858 - accuracy: 0.7995\n",
      "Epoch 142/296\n",
      "448/448 [==============================] - 1s 2ms/step - loss: 0.4856 - accuracy: 0.8004\n",
      "Epoch 143/296\n",
      "448/448 [==============================] - 1s 2ms/step - loss: 0.4844 - accuracy: 0.8006\n",
      "Epoch 144/296\n",
      "448/448 [==============================] - 1s 2ms/step - loss: 0.4883 - accuracy: 0.7967\n",
      "Epoch 145/296\n",
      "448/448 [==============================] - 1s 2ms/step - loss: 0.4879 - accuracy: 0.7972\n",
      "Epoch 146/296\n",
      "448/448 [==============================] - 1s 2ms/step - loss: 0.4877 - accuracy: 0.7985\n",
      "Epoch 147/296\n",
      "448/448 [==============================] - 1s 2ms/step - loss: 0.4857 - accuracy: 0.7997\n",
      "Epoch 148/296\n",
      "448/448 [==============================] - 1s 2ms/step - loss: 0.4865 - accuracy: 0.7989\n",
      "Epoch 149/296\n",
      "448/448 [==============================] - 1s 2ms/step - loss: 0.4873 - accuracy: 0.7991\n",
      "Epoch 150/296\n",
      "448/448 [==============================] - 1s 2ms/step - loss: 0.4859 - accuracy: 0.8003\n",
      "Epoch 151/296\n",
      "448/448 [==============================] - 1s 2ms/step - loss: 0.4884 - accuracy: 0.7988\n",
      "Epoch 152/296\n",
      "448/448 [==============================] - 1s 2ms/step - loss: 0.4863 - accuracy: 0.8006\n",
      "Epoch 153/296\n",
      "448/448 [==============================] - 1s 2ms/step - loss: 0.4879 - accuracy: 0.7985\n",
      "Epoch 154/296\n",
      "448/448 [==============================] - 1s 2ms/step - loss: 0.4875 - accuracy: 0.7976\n",
      "Epoch 155/296\n",
      "448/448 [==============================] - 1s 2ms/step - loss: 0.4873 - accuracy: 0.7989\n",
      "Epoch 156/296\n",
      "448/448 [==============================] - 1s 2ms/step - loss: 0.4847 - accuracy: 0.7999\n",
      "Epoch 157/296\n",
      "448/448 [==============================] - 1s 2ms/step - loss: 0.4850 - accuracy: 0.7999\n",
      "Epoch 158/296\n",
      "448/448 [==============================] - 1s 2ms/step - loss: 0.4832 - accuracy: 0.8029\n",
      "Epoch 159/296\n",
      "448/448 [==============================] - 1s 2ms/step - loss: 0.4840 - accuracy: 0.7990\n",
      "Epoch 160/296\n",
      "448/448 [==============================] - 1s 2ms/step - loss: 0.4850 - accuracy: 0.8004\n",
      "Epoch 161/296\n",
      "448/448 [==============================] - 1s 2ms/step - loss: 0.4853 - accuracy: 0.8003\n",
      "Epoch 162/296\n",
      "448/448 [==============================] - 1s 2ms/step - loss: 0.4854 - accuracy: 0.7988\n",
      "Epoch 163/296\n",
      "448/448 [==============================] - 1s 2ms/step - loss: 0.4866 - accuracy: 0.8004\n",
      "Epoch 164/296\n",
      "448/448 [==============================] - 1s 2ms/step - loss: 0.4825 - accuracy: 0.8029\n",
      "Epoch 165/296\n",
      "448/448 [==============================] - 1s 2ms/step - loss: 0.4865 - accuracy: 0.7985\n",
      "Epoch 166/296\n",
      "448/448 [==============================] - 1s 2ms/step - loss: 0.4816 - accuracy: 0.8026\n",
      "Epoch 167/296\n",
      "448/448 [==============================] - 1s 2ms/step - loss: 0.4832 - accuracy: 0.8033\n",
      "Epoch 168/296\n",
      "448/448 [==============================] - 1s 2ms/step - loss: 0.4833 - accuracy: 0.8015\n",
      "Epoch 169/296\n",
      "448/448 [==============================] - 1s 2ms/step - loss: 0.4842 - accuracy: 0.8004\n",
      "Epoch 170/296\n",
      "448/448 [==============================] - 1s 2ms/step - loss: 0.4840 - accuracy: 0.8010\n",
      "Epoch 171/296\n",
      "448/448 [==============================] - 1s 2ms/step - loss: 0.4876 - accuracy: 0.7983\n",
      "Epoch 172/296\n",
      "448/448 [==============================] - 1s 2ms/step - loss: 0.4837 - accuracy: 0.8015\n",
      "Epoch 173/296\n",
      "448/448 [==============================] - 1s 2ms/step - loss: 0.4819 - accuracy: 0.8032\n",
      "Epoch 174/296\n",
      "448/448 [==============================] - 1s 2ms/step - loss: 0.4867 - accuracy: 0.7979\n",
      "Epoch 175/296\n",
      "448/448 [==============================] - 1s 2ms/step - loss: 0.4826 - accuracy: 0.8027\n",
      "Epoch 176/296\n",
      "448/448 [==============================] - 1s 2ms/step - loss: 0.4846 - accuracy: 0.8006\n",
      "Epoch 177/296\n",
      "448/448 [==============================] - 1s 2ms/step - loss: 0.4849 - accuracy: 0.8004\n",
      "Epoch 178/296\n",
      "448/448 [==============================] - 1s 2ms/step - loss: 0.4839 - accuracy: 0.8030\n",
      "Epoch 179/296\n",
      "448/448 [==============================] - 1s 2ms/step - loss: 0.4814 - accuracy: 0.8035\n",
      "Epoch 180/296\n",
      "448/448 [==============================] - 1s 2ms/step - loss: 0.4832 - accuracy: 0.8012\n",
      "Epoch 181/296\n",
      "448/448 [==============================] - 1s 2ms/step - loss: 0.4834 - accuracy: 0.8009\n",
      "Epoch 182/296\n",
      "448/448 [==============================] - 1s 2ms/step - loss: 0.4817 - accuracy: 0.8038\n",
      "Epoch 183/296\n",
      "448/448 [==============================] - 1s 2ms/step - loss: 0.4866 - accuracy: 0.7981\n",
      "Epoch 184/296\n",
      "448/448 [==============================] - 1s 2ms/step - loss: 0.4836 - accuracy: 0.8023\n",
      "Epoch 185/296\n",
      "448/448 [==============================] - 1s 2ms/step - loss: 0.4817 - accuracy: 0.8025\n",
      "Epoch 186/296\n",
      "448/448 [==============================] - 1s 2ms/step - loss: 0.4815 - accuracy: 0.8055\n",
      "Epoch 187/296\n",
      "448/448 [==============================] - 1s 2ms/step - loss: 0.4834 - accuracy: 0.8025\n",
      "Epoch 188/296\n",
      "448/448 [==============================] - 1s 2ms/step - loss: 0.4830 - accuracy: 0.8021\n",
      "Epoch 189/296\n",
      "448/448 [==============================] - 1s 2ms/step - loss: 0.4836 - accuracy: 0.8015\n",
      "Epoch 190/296\n",
      "448/448 [==============================] - 1s 2ms/step - loss: 0.4817 - accuracy: 0.8049\n",
      "Epoch 191/296\n",
      "448/448 [==============================] - 1s 2ms/step - loss: 0.4847 - accuracy: 0.7992\n",
      "Epoch 192/296\n",
      "448/448 [==============================] - 1s 2ms/step - loss: 0.4802 - accuracy: 0.8046\n",
      "Epoch 193/296\n",
      "448/448 [==============================] - 1s 2ms/step - loss: 0.4804 - accuracy: 0.8046\n",
      "Epoch 194/296\n",
      "448/448 [==============================] - 1s 2ms/step - loss: 0.4787 - accuracy: 0.8044\n",
      "Epoch 195/296\n",
      "448/448 [==============================] - 1s 2ms/step - loss: 0.4842 - accuracy: 0.8013\n",
      "Epoch 196/296\n",
      "448/448 [==============================] - 1s 2ms/step - loss: 0.4796 - accuracy: 0.8041\n",
      "Epoch 197/296\n",
      "448/448 [==============================] - 1s 2ms/step - loss: 0.4820 - accuracy: 0.8007\n",
      "Epoch 198/296\n",
      "448/448 [==============================] - 1s 2ms/step - loss: 0.4793 - accuracy: 0.8062\n",
      "Epoch 199/296\n",
      "448/448 [==============================] - 1s 2ms/step - loss: 0.4811 - accuracy: 0.8027\n",
      "Epoch 200/296\n",
      "448/448 [==============================] - 1s 2ms/step - loss: 0.4763 - accuracy: 0.8078\n",
      "Epoch 201/296\n",
      "448/448 [==============================] - 1s 2ms/step - loss: 0.4813 - accuracy: 0.8039\n",
      "Epoch 202/296\n",
      "448/448 [==============================] - 1s 2ms/step - loss: 0.4819 - accuracy: 0.8028\n",
      "Epoch 203/296\n",
      "448/448 [==============================] - 1s 2ms/step - loss: 0.4808 - accuracy: 0.8043\n",
      "Epoch 204/296\n",
      "448/448 [==============================] - 1s 2ms/step - loss: 0.4800 - accuracy: 0.8042\n",
      "Epoch 205/296\n",
      "448/448 [==============================] - 1s 2ms/step - loss: 0.4816 - accuracy: 0.8030\n",
      "Epoch 206/296\n",
      "448/448 [==============================] - 1s 2ms/step - loss: 0.4792 - accuracy: 0.8050\n",
      "Epoch 207/296\n",
      "448/448 [==============================] - 1s 2ms/step - loss: 0.4757 - accuracy: 0.8064\n",
      "Epoch 208/296\n",
      "448/448 [==============================] - 1s 2ms/step - loss: 0.4791 - accuracy: 0.8048\n",
      "Epoch 209/296\n",
      "448/448 [==============================] - 1s 2ms/step - loss: 0.4790 - accuracy: 0.8052\n",
      "Epoch 210/296\n",
      "448/448 [==============================] - 1s 2ms/step - loss: 0.4822 - accuracy: 0.8018\n",
      "Epoch 211/296\n",
      "448/448 [==============================] - 1s 2ms/step - loss: 0.4820 - accuracy: 0.8016\n",
      "Epoch 212/296\n",
      "448/448 [==============================] - 1s 2ms/step - loss: 0.4818 - accuracy: 0.8026\n",
      "Epoch 213/296\n",
      "448/448 [==============================] - 1s 2ms/step - loss: 0.4790 - accuracy: 0.8043\n",
      "Epoch 214/296\n",
      "448/448 [==============================] - 1s 2ms/step - loss: 0.4815 - accuracy: 0.8031\n",
      "Epoch 215/296\n",
      "448/448 [==============================] - 1s 2ms/step - loss: 0.4765 - accuracy: 0.8058\n",
      "Epoch 216/296\n",
      "448/448 [==============================] - 1s 2ms/step - loss: 0.4763 - accuracy: 0.8066\n",
      "Epoch 217/296\n",
      "448/448 [==============================] - 1s 2ms/step - loss: 0.4764 - accuracy: 0.8061\n",
      "Epoch 218/296\n",
      "448/448 [==============================] - 1s 2ms/step - loss: 0.4787 - accuracy: 0.8046\n",
      "Epoch 219/296\n",
      "448/448 [==============================] - 1s 2ms/step - loss: 0.4779 - accuracy: 0.8077\n",
      "Epoch 220/296\n",
      "448/448 [==============================] - 1s 2ms/step - loss: 0.4786 - accuracy: 0.8041\n",
      "Epoch 221/296\n",
      "448/448 [==============================] - 1s 2ms/step - loss: 0.4790 - accuracy: 0.8056\n",
      "Epoch 222/296\n",
      "448/448 [==============================] - 1s 2ms/step - loss: 0.4745 - accuracy: 0.8080\n",
      "Epoch 223/296\n",
      "448/448 [==============================] - 1s 2ms/step - loss: 0.4754 - accuracy: 0.8063\n",
      "Epoch 224/296\n",
      "448/448 [==============================] - 1s 2ms/step - loss: 0.4768 - accuracy: 0.8072\n",
      "Epoch 225/296\n",
      "448/448 [==============================] - 1s 2ms/step - loss: 0.4757 - accuracy: 0.8052\n",
      "Epoch 226/296\n",
      "448/448 [==============================] - 1s 2ms/step - loss: 0.4751 - accuracy: 0.8057\n",
      "Epoch 227/296\n",
      "448/448 [==============================] - 1s 2ms/step - loss: 0.4764 - accuracy: 0.8080\n",
      "Epoch 228/296\n",
      "448/448 [==============================] - 1s 2ms/step - loss: 0.4752 - accuracy: 0.8061\n",
      "Epoch 229/296\n",
      "448/448 [==============================] - 1s 2ms/step - loss: 0.4763 - accuracy: 0.8050\n",
      "Epoch 230/296\n",
      "448/448 [==============================] - 1s 2ms/step - loss: 0.4750 - accuracy: 0.8078\n",
      "Epoch 231/296\n",
      "448/448 [==============================] - 1s 2ms/step - loss: 0.4790 - accuracy: 0.8039\n",
      "Epoch 232/296\n",
      "448/448 [==============================] - 1s 2ms/step - loss: 0.4773 - accuracy: 0.8058\n",
      "Epoch 233/296\n",
      "448/448 [==============================] - 1s 2ms/step - loss: 0.4744 - accuracy: 0.8081\n",
      "Epoch 234/296\n",
      "448/448 [==============================] - 1s 2ms/step - loss: 0.4736 - accuracy: 0.8069\n",
      "Epoch 235/296\n",
      "448/448 [==============================] - 1s 2ms/step - loss: 0.4757 - accuracy: 0.8060\n",
      "Epoch 236/296\n",
      "448/448 [==============================] - 1s 2ms/step - loss: 0.4701 - accuracy: 0.8099\n",
      "Epoch 237/296\n",
      "448/448 [==============================] - 1s 2ms/step - loss: 0.4766 - accuracy: 0.8041\n",
      "Epoch 238/296\n",
      "448/448 [==============================] - 1s 2ms/step - loss: 0.4742 - accuracy: 0.8089\n",
      "Epoch 239/296\n",
      "448/448 [==============================] - 1s 2ms/step - loss: 0.4777 - accuracy: 0.8059\n",
      "Epoch 240/296\n",
      "448/448 [==============================] - 1s 2ms/step - loss: 0.4737 - accuracy: 0.8074\n",
      "Epoch 241/296\n",
      "448/448 [==============================] - 1s 2ms/step - loss: 0.4758 - accuracy: 0.8075\n",
      "Epoch 242/296\n",
      "448/448 [==============================] - 1s 2ms/step - loss: 0.4754 - accuracy: 0.8057\n",
      "Epoch 243/296\n",
      "448/448 [==============================] - 1s 2ms/step - loss: 0.4716 - accuracy: 0.8094\n",
      "Epoch 244/296\n",
      "448/448 [==============================] - 1s 2ms/step - loss: 0.4764 - accuracy: 0.8069\n",
      "Epoch 245/296\n",
      "448/448 [==============================] - 1s 2ms/step - loss: 0.4720 - accuracy: 0.8086\n",
      "Epoch 246/296\n",
      "448/448 [==============================] - 1s 2ms/step - loss: 0.4776 - accuracy: 0.8041\n",
      "Epoch 247/296\n",
      "448/448 [==============================] - 1s 2ms/step - loss: 0.4773 - accuracy: 0.8043\n",
      "Epoch 248/296\n",
      "448/448 [==============================] - 1s 2ms/step - loss: 0.4718 - accuracy: 0.8095\n",
      "Epoch 249/296\n",
      "448/448 [==============================] - 1s 2ms/step - loss: 0.4742 - accuracy: 0.8064\n",
      "Epoch 250/296\n",
      "448/448 [==============================] - 1s 2ms/step - loss: 0.4749 - accuracy: 0.8061\n",
      "Epoch 251/296\n",
      "448/448 [==============================] - 1s 2ms/step - loss: 0.4729 - accuracy: 0.8092\n",
      "Epoch 252/296\n",
      "448/448 [==============================] - 1s 2ms/step - loss: 0.4748 - accuracy: 0.8069\n",
      "Epoch 253/296\n",
      "448/448 [==============================] - 1s 2ms/step - loss: 0.4768 - accuracy: 0.8069\n",
      "Epoch 254/296\n",
      "448/448 [==============================] - 1s 2ms/step - loss: 0.4752 - accuracy: 0.8059\n",
      "Epoch 255/296\n",
      "448/448 [==============================] - 1s 2ms/step - loss: 0.4747 - accuracy: 0.8076\n",
      "Epoch 256/296\n",
      "448/448 [==============================] - 1s 2ms/step - loss: 0.4759 - accuracy: 0.8059\n",
      "Epoch 257/296\n",
      "448/448 [==============================] - 1s 2ms/step - loss: 0.4738 - accuracy: 0.8066\n",
      "Epoch 258/296\n",
      "448/448 [==============================] - 1s 2ms/step - loss: 0.4753 - accuracy: 0.8059\n",
      "Epoch 259/296\n",
      "448/448 [==============================] - 1s 2ms/step - loss: 0.4768 - accuracy: 0.8050\n",
      "Epoch 260/296\n",
      "448/448 [==============================] - 1s 2ms/step - loss: 0.4724 - accuracy: 0.8081\n",
      "Epoch 261/296\n",
      "448/448 [==============================] - 1s 2ms/step - loss: 0.4723 - accuracy: 0.8102\n",
      "Epoch 262/296\n",
      "448/448 [==============================] - 1s 2ms/step - loss: 0.4771 - accuracy: 0.8057\n",
      "Epoch 263/296\n",
      "448/448 [==============================] - 1s 2ms/step - loss: 0.4759 - accuracy: 0.8050\n",
      "Epoch 264/296\n",
      "448/448 [==============================] - 1s 2ms/step - loss: 0.4728 - accuracy: 0.8068\n",
      "Epoch 265/296\n",
      "448/448 [==============================] - 1s 2ms/step - loss: 0.4749 - accuracy: 0.8066\n",
      "Epoch 266/296\n",
      "448/448 [==============================] - 1s 2ms/step - loss: 0.4731 - accuracy: 0.8067\n",
      "Epoch 267/296\n",
      "448/448 [==============================] - 1s 2ms/step - loss: 0.4764 - accuracy: 0.8047\n",
      "Epoch 268/296\n",
      "448/448 [==============================] - 1s 2ms/step - loss: 0.4728 - accuracy: 0.8083\n",
      "Epoch 269/296\n",
      "448/448 [==============================] - 1s 2ms/step - loss: 0.4729 - accuracy: 0.8071\n",
      "Epoch 270/296\n",
      "448/448 [==============================] - 1s 2ms/step - loss: 0.4728 - accuracy: 0.8066\n",
      "Epoch 271/296\n",
      "448/448 [==============================] - 1s 2ms/step - loss: 0.4710 - accuracy: 0.8089\n",
      "Epoch 272/296\n",
      "448/448 [==============================] - 1s 2ms/step - loss: 0.4736 - accuracy: 0.8064\n",
      "Epoch 273/296\n",
      "448/448 [==============================] - 1s 2ms/step - loss: 0.4731 - accuracy: 0.8068\n",
      "Epoch 274/296\n",
      "448/448 [==============================] - 1s 2ms/step - loss: 0.4768 - accuracy: 0.8041\n",
      "Epoch 275/296\n",
      "448/448 [==============================] - 1s 2ms/step - loss: 0.4721 - accuracy: 0.8088\n",
      "Epoch 276/296\n",
      "448/448 [==============================] - 1s 2ms/step - loss: 0.4697 - accuracy: 0.8100\n",
      "Epoch 277/296\n",
      "448/448 [==============================] - 1s 2ms/step - loss: 0.4701 - accuracy: 0.8098\n",
      "Epoch 278/296\n",
      "448/448 [==============================] - 1s 2ms/step - loss: 0.4753 - accuracy: 0.8076\n",
      "Epoch 279/296\n",
      "448/448 [==============================] - 1s 2ms/step - loss: 0.4696 - accuracy: 0.8112\n",
      "Epoch 280/296\n",
      "448/448 [==============================] - 1s 2ms/step - loss: 0.4711 - accuracy: 0.8085\n",
      "Epoch 281/296\n",
      "448/448 [==============================] - 1s 2ms/step - loss: 0.4755 - accuracy: 0.8075\n",
      "Epoch 282/296\n",
      "448/448 [==============================] - 1s 2ms/step - loss: 0.4671 - accuracy: 0.8131\n",
      "Epoch 283/296\n",
      "448/448 [==============================] - 1s 2ms/step - loss: 0.4713 - accuracy: 0.8096\n",
      "Epoch 284/296\n",
      "448/448 [==============================] - 1s 2ms/step - loss: 0.4765 - accuracy: 0.8058\n",
      "Epoch 285/296\n",
      "448/448 [==============================] - 1s 2ms/step - loss: 0.4749 - accuracy: 0.8049\n",
      "Epoch 286/296\n",
      "448/448 [==============================] - 1s 2ms/step - loss: 0.4719 - accuracy: 0.8090\n",
      "Epoch 287/296\n",
      "448/448 [==============================] - 1s 2ms/step - loss: 0.4763 - accuracy: 0.8056\n",
      "Epoch 288/296\n",
      "448/448 [==============================] - 1s 2ms/step - loss: 0.4714 - accuracy: 0.8076\n",
      "Epoch 289/296\n",
      "448/448 [==============================] - 1s 2ms/step - loss: 0.4750 - accuracy: 0.8061\n",
      "Epoch 290/296\n",
      "448/448 [==============================] - 1s 2ms/step - loss: 0.4674 - accuracy: 0.8117\n",
      "Epoch 291/296\n",
      "448/448 [==============================] - 1s 2ms/step - loss: 0.4712 - accuracy: 0.8076\n",
      "Epoch 292/296\n",
      "448/448 [==============================] - 1s 2ms/step - loss: 0.4732 - accuracy: 0.8072\n",
      "Epoch 293/296\n",
      "448/448 [==============================] - 1s 2ms/step - loss: 0.4730 - accuracy: 0.8062\n",
      "Epoch 294/296\n",
      "448/448 [==============================] - 1s 2ms/step - loss: 0.4722 - accuracy: 0.8078\n",
      "Epoch 295/296\n",
      "448/448 [==============================] - 1s 2ms/step - loss: 0.4707 - accuracy: 0.8084\n",
      "Epoch 296/296\n",
      "448/448 [==============================] - 1s 2ms/step - loss: 0.4702 - accuracy: 0.8084\n"
     ]
    },
    {
     "data": {
      "text/plain": [
       "<keras.callbacks.History at 0x1a8cfc09a60>"
      ]
     },
     "execution_count": 107,
     "metadata": {},
     "output_type": "execute_result"
    }
   ],
   "source": [
    "ann.fit(X_train, y_train, batch_size = 32, epochs = 296)"
   ]
  },
  {
   "cell_type": "code",
   "execution_count": 108,
   "id": "1c16b84b",
   "metadata": {},
   "outputs": [
    {
     "data": {
      "text/html": [
       "<div>\n",
       "<style scoped>\n",
       "    .dataframe tbody tr th:only-of-type {\n",
       "        vertical-align: middle;\n",
       "    }\n",
       "\n",
       "    .dataframe tbody tr th {\n",
       "        vertical-align: top;\n",
       "    }\n",
       "\n",
       "    .dataframe thead th {\n",
       "        text-align: right;\n",
       "    }\n",
       "</style>\n",
       "<table border=\"1\" class=\"dataframe\">\n",
       "  <thead>\n",
       "    <tr style=\"text-align: right;\">\n",
       "      <th></th>\n",
       "      <th>entry_id</th>\n",
       "      <th>age</th>\n",
       "      <th>pay_schedule</th>\n",
       "      <th>home_owner</th>\n",
       "      <th>income</th>\n",
       "      <th>months_employed</th>\n",
       "      <th>years_employed</th>\n",
       "      <th>current_address_year</th>\n",
       "      <th>personal_account_m</th>\n",
       "      <th>personal_account_y</th>\n",
       "      <th>...</th>\n",
       "      <th>amount_requested</th>\n",
       "      <th>risk_score</th>\n",
       "      <th>risk_score_2</th>\n",
       "      <th>risk_score_3</th>\n",
       "      <th>risk_score_4</th>\n",
       "      <th>risk_score_5</th>\n",
       "      <th>ext_quality_score</th>\n",
       "      <th>ext_quality_score_2</th>\n",
       "      <th>inquiries_last_month</th>\n",
       "      <th>e_signed</th>\n",
       "    </tr>\n",
       "  </thead>\n",
       "  <tbody>\n",
       "    <tr>\n",
       "      <th>0</th>\n",
       "      <td>7629673</td>\n",
       "      <td>40</td>\n",
       "      <td>bi-weekly</td>\n",
       "      <td>1</td>\n",
       "      <td>3135</td>\n",
       "      <td>0</td>\n",
       "      <td>3</td>\n",
       "      <td>3</td>\n",
       "      <td>6</td>\n",
       "      <td>2</td>\n",
       "      <td>...</td>\n",
       "      <td>550</td>\n",
       "      <td>36200</td>\n",
       "      <td>0.737398</td>\n",
       "      <td>0.903517</td>\n",
       "      <td>0.487712</td>\n",
       "      <td>0.515977</td>\n",
       "      <td>0.580918</td>\n",
       "      <td>0.380918</td>\n",
       "      <td>10</td>\n",
       "      <td>1</td>\n",
       "    </tr>\n",
       "    <tr>\n",
       "      <th>1</th>\n",
       "      <td>3560428</td>\n",
       "      <td>61</td>\n",
       "      <td>weekly</td>\n",
       "      <td>0</td>\n",
       "      <td>3180</td>\n",
       "      <td>0</td>\n",
       "      <td>6</td>\n",
       "      <td>3</td>\n",
       "      <td>2</td>\n",
       "      <td>7</td>\n",
       "      <td>...</td>\n",
       "      <td>600</td>\n",
       "      <td>30150</td>\n",
       "      <td>0.738510</td>\n",
       "      <td>0.881027</td>\n",
       "      <td>0.713423</td>\n",
       "      <td>0.826402</td>\n",
       "      <td>0.730720</td>\n",
       "      <td>0.630720</td>\n",
       "      <td>9</td>\n",
       "      <td>0</td>\n",
       "    </tr>\n",
       "    <tr>\n",
       "      <th>2</th>\n",
       "      <td>6934997</td>\n",
       "      <td>23</td>\n",
       "      <td>weekly</td>\n",
       "      <td>0</td>\n",
       "      <td>1540</td>\n",
       "      <td>6</td>\n",
       "      <td>0</td>\n",
       "      <td>0</td>\n",
       "      <td>7</td>\n",
       "      <td>1</td>\n",
       "      <td>...</td>\n",
       "      <td>450</td>\n",
       "      <td>34550</td>\n",
       "      <td>0.642993</td>\n",
       "      <td>0.766554</td>\n",
       "      <td>0.595018</td>\n",
       "      <td>0.762284</td>\n",
       "      <td>0.531712</td>\n",
       "      <td>0.531712</td>\n",
       "      <td>7</td>\n",
       "      <td>0</td>\n",
       "    </tr>\n",
       "    <tr>\n",
       "      <th>3</th>\n",
       "      <td>5682812</td>\n",
       "      <td>40</td>\n",
       "      <td>bi-weekly</td>\n",
       "      <td>0</td>\n",
       "      <td>5230</td>\n",
       "      <td>0</td>\n",
       "      <td>6</td>\n",
       "      <td>1</td>\n",
       "      <td>2</td>\n",
       "      <td>7</td>\n",
       "      <td>...</td>\n",
       "      <td>700</td>\n",
       "      <td>42150</td>\n",
       "      <td>0.665224</td>\n",
       "      <td>0.960832</td>\n",
       "      <td>0.767828</td>\n",
       "      <td>0.778831</td>\n",
       "      <td>0.792552</td>\n",
       "      <td>0.592552</td>\n",
       "      <td>8</td>\n",
       "      <td>1</td>\n",
       "    </tr>\n",
       "    <tr>\n",
       "      <th>4</th>\n",
       "      <td>5335819</td>\n",
       "      <td>33</td>\n",
       "      <td>semi-monthly</td>\n",
       "      <td>0</td>\n",
       "      <td>3590</td>\n",
       "      <td>0</td>\n",
       "      <td>5</td>\n",
       "      <td>2</td>\n",
       "      <td>2</td>\n",
       "      <td>8</td>\n",
       "      <td>...</td>\n",
       "      <td>1100</td>\n",
       "      <td>53850</td>\n",
       "      <td>0.617361</td>\n",
       "      <td>0.857560</td>\n",
       "      <td>0.613487</td>\n",
       "      <td>0.665523</td>\n",
       "      <td>0.744634</td>\n",
       "      <td>0.744634</td>\n",
       "      <td>12</td>\n",
       "      <td>0</td>\n",
       "    </tr>\n",
       "  </tbody>\n",
       "</table>\n",
       "<p>5 rows × 21 columns</p>\n",
       "</div>"
      ],
      "text/plain": [
       "   entry_id  age  pay_schedule  home_owner  income  months_employed  \\\n",
       "0   7629673   40     bi-weekly           1    3135                0   \n",
       "1   3560428   61        weekly           0    3180                0   \n",
       "2   6934997   23        weekly           0    1540                6   \n",
       "3   5682812   40     bi-weekly           0    5230                0   \n",
       "4   5335819   33  semi-monthly           0    3590                0   \n",
       "\n",
       "   years_employed  current_address_year  personal_account_m  \\\n",
       "0               3                     3                   6   \n",
       "1               6                     3                   2   \n",
       "2               0                     0                   7   \n",
       "3               6                     1                   2   \n",
       "4               5                     2                   2   \n",
       "\n",
       "   personal_account_y  ...  amount_requested  risk_score  risk_score_2  \\\n",
       "0                   2  ...               550       36200      0.737398   \n",
       "1                   7  ...               600       30150      0.738510   \n",
       "2                   1  ...               450       34550      0.642993   \n",
       "3                   7  ...               700       42150      0.665224   \n",
       "4                   8  ...              1100       53850      0.617361   \n",
       "\n",
       "   risk_score_3  risk_score_4  risk_score_5  ext_quality_score  \\\n",
       "0      0.903517      0.487712      0.515977           0.580918   \n",
       "1      0.881027      0.713423      0.826402           0.730720   \n",
       "2      0.766554      0.595018      0.762284           0.531712   \n",
       "3      0.960832      0.767828      0.778831           0.792552   \n",
       "4      0.857560      0.613487      0.665523           0.744634   \n",
       "\n",
       "   ext_quality_score_2  inquiries_last_month  e_signed  \n",
       "0             0.380918                    10         1  \n",
       "1             0.630720                     9         0  \n",
       "2             0.531712                     7         0  \n",
       "3             0.592552                     8         1  \n",
       "4             0.744634                    12         0  \n",
       "\n",
       "[5 rows x 21 columns]"
      ]
     },
     "execution_count": 108,
     "metadata": {},
     "output_type": "execute_result"
    }
   ],
   "source": [
    "dataset.head()"
   ]
  },
  {
   "cell_type": "code",
   "execution_count": 109,
   "id": "89b8a091",
   "metadata": {},
   "outputs": [],
   "source": [
    "## Part 4 - Making the predictions and evaluating the model\n",
    "### Predicting the result of a single observation"
   ]
  },
  {
   "cell_type": "code",
   "execution_count": 110,
   "id": "e2d201e3",
   "metadata": {},
   "outputs": [
    {
     "name": "stdout",
     "output_type": "stream",
     "text": [
      "[[1.0 0.0 0.0 ... 0.580918 0.380918 10]\n",
      " [0.0 0.0 0.0 ... 0.73072 0.63072 9]\n",
      " [0.0 0.0 0.0 ... 0.531712 0.531712 7]\n",
      " ...\n",
      " [0.0 0.0 0.0 ... 0.472045 0.672045 9]\n",
      " [1.0 0.0 0.0 ... 0.406568 0.406568 3]\n",
      " [0.0 0.0 0.0 ... 0.8461629999999999 0.8461629999999999 4]]\n"
     ]
    }
   ],
   "source": [
    "print(X)"
   ]
  },
  {
   "cell_type": "code",
   "execution_count": 111,
   "id": "0170a900",
   "metadata": {},
   "outputs": [
    {
     "name": "stdout",
     "output_type": "stream",
     "text": [
      "[[ True]]\n"
     ]
    }
   ],
   "source": [
    "print(ann.predict(sc.transform([[60,1.0,0.0,1.0,1,2500,3,1,600,37000,0.7373, 0.9035, 0.4877, 0.515977, 0.580918, 0.380918, 10, 0, 0, 0, 36, 30]]))>0.5)"
   ]
  },
  {
   "cell_type": "code",
   "execution_count": 112,
   "id": "dd7e4d40",
   "metadata": {},
   "outputs": [
    {
     "name": "stdout",
     "output_type": "stream",
     "text": [
      "[[0 1]\n",
      " [1 1]\n",
      " [0 0]\n",
      " ...\n",
      " [1 1]\n",
      " [0 1]\n",
      " [1 1]]\n"
     ]
    }
   ],
   "source": [
    "y_pred = ann.predict(X_test)\n",
    "y_pred = (y_pred > 0.5)\n",
    "print(np.concatenate((y_pred.reshape(len(y_pred),1), y_test.reshape(len(y_test),1)),1))"
   ]
  },
  {
   "cell_type": "code",
   "execution_count": 113,
   "id": "6824312d",
   "metadata": {},
   "outputs": [
    {
     "name": "stdout",
     "output_type": "stream",
     "text": [
      "[[ 804  850]\n",
      " [ 726 1202]]\n"
     ]
    },
    {
     "data": {
      "text/plain": [
       "0.5600223338916807"
      ]
     },
     "execution_count": 113,
     "metadata": {},
     "output_type": "execute_result"
    }
   ],
   "source": [
    "from sklearn.metrics import confusion_matrix, accuracy_score\n",
    "cm = confusion_matrix(y_test, y_pred)\n",
    "print(cm)\n",
    "accuracy_score(y_test, y_pred)"
   ]
  },
  {
   "cell_type": "code",
   "execution_count": 114,
   "id": "c71f46e4",
   "metadata": {},
   "outputs": [],
   "source": [
    "import matplotlib.pyplot as plt"
   ]
  },
  {
   "cell_type": "code",
   "execution_count": 115,
   "id": "2a18e02f",
   "metadata": {},
   "outputs": [
    {
     "name": "stdout",
     "output_type": "stream",
     "text": [
      "[[-1.22463801 -0.30236006 -0.35607494 ... -1.06005855 -1.05738616\n",
      "   1.7844941 ]\n",
      " [-1.22463801  3.30731512 -0.35607494 ...  0.04180056 -0.67208556\n",
      "  -0.66336864]\n",
      " [ 0.81656783 -0.30236006 -0.35607494 ...  0.5883578  -0.84155028\n",
      "   1.2405246 ]\n",
      " ...\n",
      " [ 0.81656783 -0.30236006 -0.35607494 ... -1.44456442 -1.44152051\n",
      "   0.42457036]\n",
      " [-1.22463801 -0.30236006  2.80839755 ...  0.13117339  0.84818866\n",
      "  -0.66336864]\n",
      " [ 0.81656783 -0.30236006 -0.35607494 ...  1.40594842 -0.7402435\n",
      "  -0.93535339]]\n"
     ]
    }
   ],
   "source": [
    "print(X_train)"
   ]
  },
  {
   "cell_type": "code",
   "execution_count": 116,
   "id": "19f32662",
   "metadata": {},
   "outputs": [
    {
     "name": "stdout",
     "output_type": "stream",
     "text": [
      "[[-1.22463801 -0.30236006  2.80839755 ...  0.31451697 -0.39963265\n",
      "   0.6965551 ]\n",
      " [ 0.81656783 -0.30236006 -0.35607494 ... -0.78161265 -0.06371543\n",
      "  -1.20733813]\n",
      " [-1.22463801 -0.30236006  2.80839755 ... -0.50556597 -0.50342934\n",
      "  -0.39138389]\n",
      " ...\n",
      " [ 0.81656783 -0.30236006 -0.35607494 ...  0.09169007 -0.62224425\n",
      "  -0.93535339]\n",
      " [ 0.81656783 -0.30236006 -0.35607494 ... -1.49100907 -0.77242642\n",
      "  -0.66336864]\n",
      " [-1.22463801 -0.30236006 -0.35607494 ... -1.39050671  0.75896658\n",
      "  -0.11939914]]\n"
     ]
    }
   ],
   "source": [
    "print(X_test)"
   ]
  },
  {
   "cell_type": "code",
   "execution_count": 117,
   "id": "94ca7025",
   "metadata": {},
   "outputs": [
    {
     "name": "stdout",
     "output_type": "stream",
     "text": [
      "[0 1 0 ... 1 1 1]\n"
     ]
    }
   ],
   "source": [
    "print(y_train)"
   ]
  },
  {
   "cell_type": "code",
   "execution_count": 118,
   "id": "af61fbb5",
   "metadata": {},
   "outputs": [
    {
     "name": "stdout",
     "output_type": "stream",
     "text": [
      "[1 1 0 ... 1 1 1]\n"
     ]
    }
   ],
   "source": [
    "print(y_test)"
   ]
  },
  {
   "cell_type": "code",
   "execution_count": 148,
   "id": "4b262a2d",
   "metadata": {},
   "outputs": [
    {
     "data": {
      "text/plain": [
       "RandomForestClassifier(criterion='entropy', n_estimators=10, random_state=0)"
      ]
     },
     "execution_count": 148,
     "metadata": {},
     "output_type": "execute_result"
    }
   ],
   "source": [
    "from sklearn.ensemble import RandomForestClassifier\n",
    "classifier = RandomForestClassifier(n_estimators = 10, criterion = 'entropy', random_state = 0)\n",
    "classifier.fit(X_train, y_train)"
   ]
  },
  {
   "cell_type": "code",
   "execution_count": 149,
   "id": "b758f6fe",
   "metadata": {},
   "outputs": [
    {
     "name": "stdout",
     "output_type": "stream",
     "text": [
      "[0]\n"
     ]
    }
   ],
   "source": [
    "print(classifier.predict(sc.transform([[60,1.0,0.0,1.0,1,2500,3,1,600,37000,0.7373, 0.9035, 0.4877, 0.515977, 0.580918, 0.380918, 10, 0, 0, 0, 36, 30]])))"
   ]
  },
  {
   "cell_type": "code",
   "execution_count": 150,
   "id": "69f2bbd5",
   "metadata": {},
   "outputs": [
    {
     "name": "stdout",
     "output_type": "stream",
     "text": [
      "[[1 1]\n",
      " [1 1]\n",
      " [0 0]\n",
      " ...\n",
      " [0 1]\n",
      " [1 1]\n",
      " [1 1]]\n"
     ]
    }
   ],
   "source": [
    "y_pred = classifier.predict(X_test)\n",
    "print(np.concatenate((y_pred.reshape(len(y_pred),1), y_test.reshape(len(y_test),1)),1))"
   ]
  },
  {
   "cell_type": "code",
   "execution_count": 151,
   "id": "3ef2c621",
   "metadata": {},
   "outputs": [
    {
     "name": "stdout",
     "output_type": "stream",
     "text": [
      "[[1006  648]\n",
      " [ 883 1045]]\n"
     ]
    },
    {
     "data": {
      "text/plain": [
       "0.5725851479620324"
      ]
     },
     "execution_count": 151,
     "metadata": {},
     "output_type": "execute_result"
    }
   ],
   "source": [
    "from sklearn.metrics import confusion_matrix, accuracy_score\n",
    "cm = confusion_matrix(y_test, y_pred)\n",
    "print(cm)\n",
    "accuracy_score(y_test, y_pred)"
   ]
  },
  {
   "cell_type": "code",
   "execution_count": 143,
   "id": "ae7162ca",
   "metadata": {},
   "outputs": [],
   "source": [
    "##Logistic regression"
   ]
  },
  {
   "cell_type": "code",
   "execution_count": 144,
   "id": "760908d4",
   "metadata": {},
   "outputs": [
    {
     "data": {
      "text/plain": [
       "LogisticRegression(random_state=0)"
      ]
     },
     "execution_count": 144,
     "metadata": {},
     "output_type": "execute_result"
    }
   ],
   "source": [
    "from sklearn.linear_model import LogisticRegression\n",
    "classifier = LogisticRegression(random_state = 0)\n",
    "classifier.fit(X_train, y_train)"
   ]
  },
  {
   "cell_type": "code",
   "execution_count": 145,
   "id": "6b0a9295",
   "metadata": {},
   "outputs": [
    {
     "name": "stdout",
     "output_type": "stream",
     "text": [
      "[0]\n"
     ]
    }
   ],
   "source": [
    "print(classifier.predict(sc.transform([[60,1.0,0.0,1.0,1,2500,3,1,600,37000,0.7373, 0.9035, 0.4877, 0.515977, 0.580918, 0.380918, 10, 0, 0, 0, 36, 30]])))"
   ]
  },
  {
   "cell_type": "code",
   "execution_count": 146,
   "id": "75a6b64f",
   "metadata": {},
   "outputs": [
    {
     "name": "stdout",
     "output_type": "stream",
     "text": [
      "[[1 1]\n",
      " [1 1]\n",
      " [1 0]\n",
      " ...\n",
      " [0 1]\n",
      " [1 1]\n",
      " [1 1]]\n"
     ]
    }
   ],
   "source": [
    "y_pred = classifier.predict(X_test)\n",
    "print(np.concatenate((y_pred.reshape(len(y_pred),1), y_test.reshape(len(y_test),1)),1))"
   ]
  },
  {
   "cell_type": "code",
   "execution_count": 147,
   "id": "4727c3b8",
   "metadata": {},
   "outputs": [
    {
     "name": "stdout",
     "output_type": "stream",
     "text": [
      "[[ 682  972]\n",
      " [ 571 1357]]\n"
     ]
    },
    {
     "data": {
      "text/plain": [
       "0.5692350642099386"
      ]
     },
     "execution_count": 147,
     "metadata": {},
     "output_type": "execute_result"
    }
   ],
   "source": [
    "from sklearn.metrics import confusion_matrix, accuracy_score\n",
    "cm = confusion_matrix(y_test, y_pred)\n",
    "print(cm)\n",
    "accuracy_score(y_test, y_pred)"
   ]
  },
  {
   "cell_type": "code",
   "execution_count": 164,
   "id": "be133d49",
   "metadata": {},
   "outputs": [
    {
     "data": {
      "text/plain": [
       "KNeighborsClassifier(p=3)"
      ]
     },
     "execution_count": 164,
     "metadata": {},
     "output_type": "execute_result"
    }
   ],
   "source": [
    "from sklearn.neighbors import KNeighborsClassifier\n",
    "classifier = KNeighborsClassifier(n_neighbors = 5, metric = 'minkowski', p = 2)\n",
    "classifier.fit(X_train, y_train)"
   ]
  },
  {
   "cell_type": "code",
   "execution_count": 165,
   "id": "295fedcf",
   "metadata": {},
   "outputs": [
    {
     "name": "stdout",
     "output_type": "stream",
     "text": [
      "[0]\n"
     ]
    }
   ],
   "source": [
    "print(classifier.predict(sc.transform([[60,1.0,0.0,1.0,1,2500,3,1,600,37000,0.7373, 0.9035, 0.4877, 0.515977, 0.580918, 0.380918, 10, 0, 0, 0, 36, 30]])))"
   ]
  },
  {
   "cell_type": "code",
   "execution_count": 166,
   "id": "e9ec772d",
   "metadata": {},
   "outputs": [
    {
     "name": "stdout",
     "output_type": "stream",
     "text": [
      "[[1006  648]\n",
      " [ 883 1045]]\n"
     ]
    },
    {
     "data": {
      "text/plain": [
       "0.5725851479620324"
      ]
     },
     "execution_count": 166,
     "metadata": {},
     "output_type": "execute_result"
    }
   ],
   "source": [
    "from sklearn.metrics import confusion_matrix, accuracy_score\n",
    "cm = confusion_matrix(y_test, y_pred)\n",
    "print(cm)\n",
    "accuracy_score(y_test, y_pred)"
   ]
  },
  {
   "cell_type": "code",
   "execution_count": null,
   "id": "7e1f1bbc",
   "metadata": {},
   "outputs": [],
   "source": []
  }
 ],
 "metadata": {
  "kernelspec": {
   "display_name": "Python 3 (ipykernel)",
   "language": "python",
   "name": "python3"
  },
  "language_info": {
   "codemirror_mode": {
    "name": "ipython",
    "version": 3
   },
   "file_extension": ".py",
   "mimetype": "text/x-python",
   "name": "python",
   "nbconvert_exporter": "python",
   "pygments_lexer": "ipython3",
   "version": "3.9.7"
  }
 },
 "nbformat": 4,
 "nbformat_minor": 5
}
